{
 "cells": [
  {
   "cell_type": "code",
   "execution_count": null,
   "id": "initial_id",
   "metadata": {
    "collapsed": true
   },
   "outputs": [],
   "source": [
    ""
   ]
  },
  {
   "metadata": {
    "ExecuteTime": {
     "end_time": "2024-12-06T16:13:19.026292Z",
     "start_time": "2024-12-06T16:07:34.773325Z"
    }
   },
   "cell_type": "code",
   "source": [
    "import torch\n",
    "import numpy as np\n",
    "from pathlib import Path\n",
    "from ultralytics import YOLO\n",
    "from torch.utils.data import DataLoader\n",
    "from autoencoder import DNIAnomalyDetector, DNIDataset\n",
    "from tqdm import tqdm\n",
    "from PIL import Image\n",
    "import matplotlib.pyplot as plt\n",
    "\n",
    "def preprocess_images_with_yolo(yolo_model, input_dir, output_dir):\n",
    "    \"\"\"\n",
    "    Detect, crop, and ensure horizontal orientation of DNI images using YOLO.\n",
    "\n",
    "    Args:\n",
    "        yolo_model: YOLO model for detection.\n",
    "        input_dir: Directory containing input images.\n",
    "        output_dir: Directory to save processed images.\n",
    "    \"\"\"\n",
    "    Path(output_dir).mkdir(parents=True, exist_ok=True)\n",
    "\n",
    "    image_paths = list(Path(input_dir).glob('*.jpg'))\n",
    "    for img_path in tqdm(image_paths, desc=f\"Processing {input_dir}\"):\n",
    "        try:\n",
    "            results = yolo_model(str(img_path), verbose=False)[0]\n",
    "            if not results.boxes:  # Skip if no detection\n",
    "                continue\n",
    "\n",
    "            # Get the best detection\n",
    "            best_box = results.boxes[results.boxes.conf.argmax()]\n",
    "            bbox = best_box.xyxy[0].cpu().numpy()\n",
    "            cropped_image = crop_and_reorient_image(Image.open(img_path), bbox)\n",
    "\n",
    "            # Save cropped image\n",
    "            cropped_image.save(Path(output_dir) / img_path.name)\n",
    "        except Exception as e:\n",
    "            print(f\"Error processing {img_path.name}: {e}\")\n",
    "\n",
    "def crop_and_reorient_image(image, bbox):\n",
    "    \"\"\"\n",
    "    Crop and ensure the image is horizontal (width > height).\n",
    "\n",
    "    Args:\n",
    "        image: PIL Image to process.\n",
    "        bbox: Bounding box [x1, y1, x2, y2].\n",
    "\n",
    "    Returns:\n",
    "        A cropped and correctly oriented PIL Image.\n",
    "    \"\"\"\n",
    "    x1, y1, x2, y2 = map(int, bbox)\n",
    "    cropped_image = image.crop((x1, y1, x2, y2))\n",
    "\n",
    "    # Ensure horizontal orientation\n",
    "    if cropped_image.height > cropped_image.width:\n",
    "        cropped_image = cropped_image.rotate(90, expand=True)\n",
    "    \n",
    "    return cropped_image\n",
    "\n",
    "def compute_reconstruction_errors(detector, data_dir, batch_size=32):\n",
    "    \"\"\"Compute reconstruction errors for images in a directory.\"\"\"\n",
    "    dataset = DNIDataset(data_dir, detector.transform)\n",
    "    loader = DataLoader(dataset, batch_size=batch_size, shuffle=False)\n",
    "\n",
    "    errors = []\n",
    "    with torch.no_grad():\n",
    "        for imgs in tqdm(loader, desc=f\"Computing errors for {data_dir}\"):\n",
    "            imgs = imgs.to(detector.device)\n",
    "            reconstructed = detector.decoder(detector.encoder(imgs))\n",
    "            batch_errors = torch.nn.functional.mse_loss(\n",
    "                reconstructed, imgs, reduction='none'\n",
    "            ).mean(dim=[1, 2, 3]).cpu().numpy()\n",
    "            errors.extend(batch_errors)\n",
    "\n",
    "    return np.array(errors)\n",
    "\n",
    "def process_single_model(yolo_model_path, autoencoder_model_path, input_dir, output_dir, batch_size=32):\n",
    "    \"\"\"\n",
    "    Process images with YOLO, compute reconstruction errors using a single autoencoder model.\n",
    "\n",
    "    Args:\n",
    "        yolo_model_path: Path to YOLO model weights.\n",
    "        autoencoder_model_path: Path to autoencoder model.\n",
    "        input_dir: Directory containing input images.\n",
    "        output_dir: Directory to save processed images.\n",
    "        batch_size: Batch size for reconstruction error computation.\n",
    "    \"\"\"\n",
    "    # Load YOLO model\n",
    "    yolo_model = YOLO(yolo_model_path)\n",
    "\n",
    "    # Load autoencoder model\n",
    "    detector = DNIAnomalyDetector(device='cuda' if torch.cuda.is_available() else 'cpu')\n",
    "    detector.load_model(autoencoder_model_path)\n",
    "\n",
    "    # Preprocess images with YOLO\n",
    "    print(\"Preprocessing images...\")\n",
    "    preprocess_images_with_yolo(yolo_model, input_dir, output_dir)\n",
    "\n",
    "    # Compute reconstruction errors\n",
    "    print(\"Computing reconstruction errors...\")\n",
    "    errors = compute_reconstruction_errors(detector, output_dir, batch_size)\n",
    "\n",
    "    # Print statistics\n",
    "    print_statistics(errors, detector.threshold)\n",
    "\n",
    "def print_statistics(errors, threshold):\n",
    "    \"\"\"Print statistics for reconstruction errors.\"\"\"\n",
    "    above_threshold = np.sum(errors > threshold)\n",
    "    below_threshold = np.sum(errors <= threshold)\n",
    "\n",
    "    print(f\"\\nStatistics:\")\n",
    "    print(f\"Images above threshold: {above_threshold}/{len(errors)} ({100 * above_threshold / len(errors):.2f}%)\")\n",
    "    print(f\"Images below threshold: {below_threshold}/{len(errors)} ({100 * below_threshold / len(errors):.2f}%)\")\n",
    "    print(f\"Mean error: {errors.mean():.6f}\")\n",
    "    print(f\"Median error: {np.median(errors):.6f}\")\n",
    "    print(f\"Standard deviation: {errors.std():.6f}\")\n",
    "    \n",
    "\n",
    "\n",
    "    \n",
    "    \n",
    "\n",
    "def plot_histogram(errors, threshold):\n",
    "    \"\"\"\n",
    "    Plot a histogram of reconstruction errors with a threshold line.\n",
    "\n",
    "    Args:\n",
    "        errors: Array of reconstruction errors.\n",
    "        threshold: Threshold value for anomaly detection.\n",
    "    \"\"\"\n",
    "    plt.figure(figsize=(10, 6))\n",
    "    plt.hist(errors, bins=50, alpha=0.75, color='blue', label='Reconstruction Errors')\n",
    "    plt.axvline(x=threshold, color='red', linestyle='--', label=f'Threshold: {threshold:.4f}')\n",
    "    plt.title('Reconstruction Error Distribution')\n",
    "    plt.xlabel('Reconstruction Error')\n",
    "    plt.ylabel('Frequency')\n",
    "    plt.legend()\n",
    "    plt.grid(alpha=0.3)\n",
    "    plt.show()\n",
    "\n",
    "def process_single_model(yolo_model_path, autoencoder_model_path, input_dir, output_dir, batch_size=32):\n",
    "    \"\"\"\n",
    "    Process images with YOLO, compute reconstruction errors using a single autoencoder model.\n",
    "\n",
    "    Args:\n",
    "        yolo_model_path: Path to YOLO model weights.\n",
    "        autoencoder_model_path: Path to autoencoder model.\n",
    "        input_dir: Directory containing input images.\n",
    "        output_dir: Directory to save processed images.\n",
    "        batch_size: Batch size for reconstruction error computation.\n",
    "    \"\"\"\n",
    "    # Load YOLO model\n",
    "    yolo_model = YOLO(yolo_model_path)\n",
    "\n",
    "    # Load autoencoder model\n",
    "    detector = DNIAnomalyDetector(device='cuda' if torch.cuda.is_available() else 'cpu')\n",
    "    detector.load_model(autoencoder_model_path)\n",
    "\n",
    "    # Preprocess images with YOLO\n",
    "    print(\"Preprocessing images...\")\n",
    "    preprocess_images_with_yolo(yolo_model, input_dir, output_dir)\n",
    "\n",
    "    # Compute reconstruction errors\n",
    "    print(\"Computing reconstruction errors...\")\n",
    "    errors = compute_reconstruction_errors(detector, output_dir, batch_size)\n",
    "\n",
    "    # Print statistics\n",
    "    print_statistics(errors, detector.threshold)\n",
    "\n",
    "    # Plot histogram\n",
    "    print(\"Plotting histogram...\")\n",
    "    plot_histogram(errors, detector.threshold)\n",
    "\n",
    "# Example usage\n",
    "if __name__ == \"__main__\":\n",
    "    process_single_model(\n",
    "        yolo_model_path=\"api/best.pt\",\n",
    "        autoencoder_model_path=\"models/dni_anomaly_detector.pt\",\n",
    "        input_dir=\"autoencoder_data/train_images_without_YOLO\",\n",
    "        output_dir=\"processed_images\",\n",
    "        batch_size=32\n",
    "    )\n",
    "\n",
    "\n"
   ],
   "id": "b66dff491162621b",
   "outputs": [
    {
     "name": "stdout",
     "output_type": "stream",
     "text": [
      "Preprocessing images...\n"
     ]
    },
    {
     "name": "stderr",
     "output_type": "stream",
     "text": [
      "Processing train_images_without_YOLO: 100%|██████████| 1994/1994 [04:37<00:00,  7.20it/s]\n"
     ]
    },
    {
     "name": "stdout",
     "output_type": "stream",
     "text": [
      "Computing reconstruction errors...\n"
     ]
    },
    {
     "name": "stderr",
     "output_type": "stream",
     "text": [
      "Computing errors for processed_images: 100%|██████████| 63/63 [01:06<00:00,  1.06s/it]"
     ]
    },
    {
     "name": "stdout",
     "output_type": "stream",
     "text": [
      "\n",
      "Statistics:\n",
      "Images above threshold: 1366/1991 (68.61%)\n",
      "Images below threshold: 625/1991 (31.39%)\n",
      "Mean error: 0.013324\n",
      "Median error: 0.012203\n",
      "Standard deviation: 0.006014\n",
      "Plotting histogram...\n"
     ]
    },
    {
     "name": "stderr",
     "output_type": "stream",
     "text": [
      "\n"
     ]
    },
    {
     "data": {
      "text/plain": [
       "<Figure size 1000x600 with 1 Axes>"
      ],
      "image/png": "[encoded data removed]"
     },
     "metadata": {},
     "output_type": "display_data"
    }
   ],
   "execution_count": 2
  },
  {
   "metadata": {},
   "cell_type": "code",
   "outputs": [],
   "execution_count": null,
   "source": "",
   "id": "6939ea34267fc62a"
  },
  {
   "metadata": {
    "ExecuteTime": {
     "end_time": "2024-12-06T16:14:38.926852Z",
     "start_time": "2024-12-06T16:14:38.682374Z"
    }
   },
   "cell_type": "code",
   "source": [
    "detector = DNIAnomalyDetector(device='cuda' if torch.cuda.is_available() else 'cpu')\n",
    "detector.load_model('dni_anomaly_detector_dorso.pt')\n",
    "\n",
    "detector.transform"
   ],
   "id": "e0890f29b56ef27d",
   "outputs": [
    {
     "data": {
      "text/plain": [
       "Compose(\n",
       "    Resize(size=(224, 224), interpolation=bilinear, max_size=None, antialias=True)\n",
       "    RandomHorizontalFlip(p=0.3)\n",
       "    RandomRotation(degrees=[-5.0, 5.0], interpolation=nearest, expand=False, fill=0)\n",
       "    ColorJitter(brightness=(0.9, 1.1), contrast=(0.9, 1.1), saturation=None, hue=None)\n",
       "    ToTensor()\n",
       ")"
      ]
     },
     "execution_count": 5,
     "metadata": {},
     "output_type": "execute_result"
    }
   ],
   "execution_count": 5
  }
 ],
 "metadata": {
  "kernelspec": {
   "display_name": "Python 3",
   "language": "python",
   "name": "python3"
  },
  "language_info": {
   "codemirror_mode": {
    "name": "ipython",
    "version": 2
   },
   "file_extension": ".py",
   "mimetype": "text/x-python",
   "name": "python",
   "nbconvert_exporter": "python",
   "pygments_lexer": "ipython2",
   "version": "2.7.6"
  }
 },
 "nbformat": 4,
 "nbformat_minor": 5
}
