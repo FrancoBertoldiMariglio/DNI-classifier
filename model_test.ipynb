{
 "cells": [
  {
   "cell_type": "code",
   "execution_count": null,
   "id": "initial_id",
   "metadata": {
    "collapsed": true
   },
   "outputs": [],
   "source": [
    "import torch\n",
    "\n",
    "if torch.cuda.is_available():\n",
    "    device = torch.device('cuda')\n",
    "elif torch.mps.is_available():\n",
    "    device = torch.device('mps')\n",
    "else:\n",
    "    device = torch.device('cpu')"
   ]
  },
  {
   "cell_type": "code",
   "outputs": [],
   "source": [
    "from tools.models import ResNet18\n",
    "\n",
    "model = ResNet18()\n",
    "\n",
    "model.load_state_dict(torch.load('best_modelResNet18_dni_adjusted.pth', map_location=torch.device('cpu')))\n",
    "\n",
    "model.to(device)\n",
    "\n",
    "model.eval() "
   ],
   "metadata": {
    "collapsed": false
   },
   "id": "e130df7a9abb692",
   "execution_count": null
  },
  {
   "cell_type": "code",
   "outputs": [],
   "source": [
    "from PIL import Image\n",
    "from torchvision import transforms\n",
    "\n",
    "transform = transforms.Compose([\n",
    "    transforms.Resize((224, 224)),\n",
    "    transforms.ToTensor(),\n",
    "    transforms.Normalize(mean=[0.485, 0.456, 0.406], std=[0.229, 0.224, 0.225]) \n",
    "])\n",
    "\n",
    "img = Image.open('DNI-Invalidos/IMG_20241023_122058232.jpg').convert('RGB')\n",
    "img = transform(img)\n",
    "img = img.unsqueeze(0).to(device)"
   ],
   "metadata": {
    "collapsed": false
   },
   "id": "23b6cf29f41b6700",
   "execution_count": null
  },
  {
   "cell_type": "code",
   "outputs": [],
   "source": [
    "with torch.no_grad():\n",
    "    output = model(img)\n",
    "    probability = torch.sigmoid(output).item()\n",
    "    prediction = \"valida\" if probability > 0.5 else \"invalida\"\n",
    "\n",
    "print(f'La imagen es {prediction} con una probabilidad de {probability:.10f}')"
   ],
   "metadata": {
    "collapsed": false
   },
   "id": "78eaecc9aaf7485e",
   "execution_count": null
  }
 ],
 "metadata": {
  "kernelspec": {
   "display_name": "Python 3",
   "language": "python",
   "name": "python3"
  },
  "language_info": {
   "codemirror_mode": {
    "name": "ipython",
    "version": 2
   },
   "file_extension": ".py",
   "mimetype": "text/x-python",
   "name": "python",
   "nbconvert_exporter": "python",
   "pygments_lexer": "ipython2",
   "version": "2.7.6"
  }
 },
 "nbformat": 4,
 "nbformat_minor": 5
}
