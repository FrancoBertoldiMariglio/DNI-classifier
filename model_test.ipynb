{
 "cells": [
  {
   "cell_type": "code",
   "execution_count": null,
   "id": "initial_id",
   "metadata": {
    "collapsed": true
   },
   "outputs": [],
   "source": [
    "import torch\n",
    "from PIL import Image\n",
    "from create_model import IDOneClassClassifier\n",
    "from albumentations.pytorch import ToTensorV2\n",
    "import albumentations as A\n",
    "import numpy as np\n",
    "import os\n",
    "from sklearn.metrics import accuracy_score, precision_score, recall_score, f1_score\n"
   ]
  },
  {
   "cell_type": "code",
   "outputs": [],
   "source": [
    "# Define transformation for the image (same as training)\n",
    "transform = A.Compose([\n",
    "    A.Resize(224, 224),\n",
    "    A.Normalize(mean=[0.485, 0.456, 0.406], std=[0.229, 0.224, 0.225]),\n",
    "    ToTensorV2()\n",
    "])\n",
    "\n",
    "# Load model parameters\n",
    "device = torch.device('mps' if torch.mps.is_available() else 'cpu')\n",
    "model_checkpoint_path = 'best_model_ResNet50_one_class.pth'\n",
    "\n",
    "checkpoint = torch.load(model_checkpoint_path, map_location=device)\n",
    "model = IDOneClassClassifier().to(device)\n",
    "model.load_state_dict(checkpoint['model_state_dict'])\n",
    "center = checkpoint['center'].to(device)\n",
    "radius = checkpoint['radius'].to(device)\n",
    "\n",
    "model.eval()  # Set model to evaluation mode"
   ],
   "metadata": {
    "collapsed": false
   },
   "id": "612a70824cc68293",
   "execution_count": null
  },
  {
   "cell_type": "code",
   "outputs": [],
   "source": [
    "def preprocess_image(image_path):\n",
    "    \"\"\"\n",
    "    Preprocess an image for the model.\n",
    "\n",
    "    Args:\n",
    "        image_path (str): Path to the image.\n",
    "\n",
    "    Returns:\n",
    "        torch.Tensor: Preprocessed image tensor.\n",
    "    \"\"\"\n",
    "    img = Image.open(image_path).convert('RGB')\n",
    "    img = transform(image=np.array(img))['image']\n",
    "    img = img.unsqueeze(0)  # Add batch dimension\n",
    "    return img.to(device)\n",
    "\n",
    "def predict_image(img_tensor, model, center, radius, threshold_multiplier=1.0):\n",
    "    \"\"\"\n",
    "    Predict if an image tensor is normal or anomalous.\n",
    "\n",
    "    Args:\n",
    "        img_tensor (torch.Tensor): Preprocessed image tensor.\n",
    "        model (nn.Module): Loaded model.\n",
    "        center (torch.Tensor): Center of the learned hypersphere.\n",
    "        radius (torch.Tensor): Radius of the hypersphere.\n",
    "        threshold_multiplier (float): Multiplier for threshold sensitivity.\n",
    "\n",
    "    Returns:\n",
    "        int: Prediction result (1 for normal, 0 for anomalous).\n",
    "    \"\"\"\n",
    "    with torch.no_grad():\n",
    "        features = model(img_tensor)\n",
    "        distance = torch.sum((features - center) ** 2, dim=1)\n",
    "    \n",
    "    is_normal = distance <= (radius * threshold_multiplier) ** 2\n",
    "    return 1 if is_normal.item() else 0  # 1 for normal, 0 for anomaly\n",
    "\n",
    "def load_images_from_directory(directory):\n",
    "    \"\"\"\n",
    "    Load and preprocess all images in a directory.\n",
    "\n",
    "    Args:\n",
    "        directory (str): Directory path to load images from.\n",
    "\n",
    "    Returns:\n",
    "        list: List of preprocessed image tensors.\n",
    "    \"\"\"\n",
    "    image_tensors = []\n",
    "    for filename in os.listdir(directory):\n",
    "        img_path = os.path.join(directory, filename)\n",
    "        if filename.lower().endswith(('.jpg', '.jpeg', '.png', '.bmp', '.tif', '.tiff')):\n",
    "            img_tensor = preprocess_image(img_path)\n",
    "            image_tensors.append(img_tensor)\n",
    "    return image_tensors"
   ],
   "metadata": {
    "collapsed": false
   },
   "id": "1d2d56f82973d99d",
   "execution_count": null
  },
  {
   "cell_type": "code",
   "outputs": [],
   "source": [
    "# Load datasets\n",
    "normal_image_dir = 'dataset/valid'  # Replace with path to normal images\n",
    "anomalous_image_dir = 'dataset/invalid'  # Replace with path to anomalous images\n",
    "\n",
    "print(\"Loading datasets...\")\n",
    "normal_images = load_images_from_directory(normal_image_dir)\n",
    "anomalous_images = load_images_from_directory(anomalous_image_dir)\n",
    "\n",
    "# Define threshold multipliers to test\n",
    "threshold_multipliers = [0.8, 1.0, 1.2, 1.5]\n",
    "\n",
    "# Evaluate model on each threshold\n",
    "for multiplier in threshold_multipliers:\n",
    "    print(f\"\\nEvaluating with threshold multiplier: {multiplier}\")\n",
    "    y_true = []\n",
    "    y_pred = []\n",
    "\n",
    "    # Evaluate normal images (should be predicted as normal)\n",
    "    for img_tensor in normal_images:\n",
    "        y_true.append(1)  # True label for normal images\n",
    "        y_pred.append(predict_image(img_tensor, model, center, radius, multiplier))\n",
    "\n",
    "    # Evaluate anomalous images (should be predicted as anomalous)\n",
    "    for img_tensor in anomalous_images:\n",
    "        y_true.append(0)  # True label for anomalous images\n",
    "        y_pred.append(predict_image(img_tensor, model, center, radius, multiplier))\n",
    "\n",
    "    # Calculate metrics\n",
    "    accuracy = accuracy_score(y_true, y_pred)\n",
    "    precision = precision_score(y_true, y_pred)\n",
    "    recall = recall_score(y_true, y_pred)\n",
    "    f1 = f1_score(y_true, y_pred)\n",
    "\n",
    "    print(f\"Accuracy: {accuracy:.4f}\")\n",
    "    print(f\"Precision: {precision:.4f}\")\n",
    "    print(f\"Recall: {recall:.4f}\")\n",
    "    print(f\"F1 Score: {f1:.4f}\")"
   ],
   "metadata": {
    "collapsed": false
   },
   "id": "98f3de6aab97280e",
   "execution_count": null
  }
 ],
 "metadata": {
  "kernelspec": {
   "display_name": "Python 3",
   "language": "python",
   "name": "python3"
  },
  "language_info": {
   "codemirror_mode": {
    "name": "ipython",
    "version": 2
   },
   "file_extension": ".py",
   "mimetype": "text/x-python",
   "name": "python",
   "nbconvert_exporter": "python",
   "pygments_lexer": "ipython2",
   "version": "2.7.6"
  }
 },
 "nbformat": 4,
 "nbformat_minor": 5
}
