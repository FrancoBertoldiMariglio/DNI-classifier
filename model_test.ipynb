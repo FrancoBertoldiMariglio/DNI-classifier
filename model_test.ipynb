{
 "cells": [
  {
   "cell_type": "code",
   "execution_count": 17,
   "id": "initial_id",
   "metadata": {
    "collapsed": true,
    "ExecuteTime": {
     "end_time": "2024-10-31T15:53:01.210539Z",
     "start_time": "2024-10-31T15:53:01.195258Z"
    }
   },
   "outputs": [
    {
     "ename": "ImportError",
     "evalue": "cannot import name 'IDOneClassClassifier' from 'create_model' (/Users/francobertoldi/Desktop/DNI-classifier/create_model.py)",
     "output_type": "error",
     "traceback": [
      "\u001B[0;31m---------------------------------------------------------------------------\u001B[0m",
      "\u001B[0;31mImportError\u001B[0m                               Traceback (most recent call last)",
      "Cell \u001B[0;32mIn[17], line 3\u001B[0m\n\u001B[1;32m      1\u001B[0m \u001B[38;5;28;01mimport\u001B[39;00m \u001B[38;5;21;01mtorch\u001B[39;00m\n\u001B[1;32m      2\u001B[0m \u001B[38;5;28;01mfrom\u001B[39;00m \u001B[38;5;21;01mPIL\u001B[39;00m \u001B[38;5;28;01mimport\u001B[39;00m Image\n\u001B[0;32m----> 3\u001B[0m \u001B[38;5;28;01mfrom\u001B[39;00m \u001B[38;5;21;01mcreate_model\u001B[39;00m \u001B[38;5;28;01mimport\u001B[39;00m IDOneClassClassifier\n\u001B[1;32m      4\u001B[0m \u001B[38;5;28;01mfrom\u001B[39;00m \u001B[38;5;21;01malbumentations\u001B[39;00m\u001B[38;5;21;01m.\u001B[39;00m\u001B[38;5;21;01mpytorch\u001B[39;00m \u001B[38;5;28;01mimport\u001B[39;00m ToTensorV2\n\u001B[1;32m      5\u001B[0m \u001B[38;5;28;01mimport\u001B[39;00m \u001B[38;5;21;01malbumentations\u001B[39;00m \u001B[38;5;28;01mas\u001B[39;00m \u001B[38;5;21;01mA\u001B[39;00m\n",
      "\u001B[0;31mImportError\u001B[0m: cannot import name 'IDOneClassClassifier' from 'create_model' (/Users/francobertoldi/Desktop/DNI-classifier/create_model.py)"
     ]
    }
   ],
   "source": [
    "import torch\n",
    "from PIL import Image\n",
    "from create_model import IDOneClassClassifier\n",
    "from albumentations.pytorch import ToTensorV2\n",
    "import albumentations as A"
   ]
  },
  {
   "cell_type": "code",
   "outputs": [],
   "source": [
    "# Define transformation for the image (same as training)\n",
    "transform = A.Compose([\n",
    "    A.Resize(224, 224),\n",
    "    A.Normalize(mean=[0.485, 0.456, 0.406], std=[0.229, 0.224, 0.225]),\n",
    "    ToTensorV2()\n",
    "])\n",
    "\n",
    "# Load model parameters\n",
    "device = torch.device('mps' if torch.mps.is_available() else 'cpu')\n",
    "model_checkpoint_path = 'dataset/best_model_ResNet50_one_class.pth'"
   ],
   "metadata": {
    "collapsed": false
   },
   "id": "612a70824cc68293"
  },
  {
   "cell_type": "code",
   "outputs": [],
   "source": [
    "checkpoint = torch.load(model_checkpoint_path, map_location=device)\n",
    "model = IDOneClassClassifier().to(device)\n",
    "model.load_state_dict(checkpoint['model_state_dict'])\n",
    "center = checkpoint['center'].to(device)\n",
    "radius = checkpoint['radius'].to(device)\n",
    "\n",
    "model.eval()  # Set model to evaluation mode"
   ],
   "metadata": {
    "collapsed": false
   },
   "id": "4018cb4bcb43662a",
   "execution_count": null
  },
  {
   "cell_type": "code",
   "outputs": [],
   "source": [
    "def preprocess_image(image_path):\n",
    "    \"\"\"\n",
    "    Preprocess an image for the model.\n",
    "\n",
    "    Args:\n",
    "        image_path (str): Path to the image.\n",
    "\n",
    "    Returns:\n",
    "        torch.Tensor: Preprocessed image tensor.\n",
    "    \"\"\"\n",
    "    img = Image.open(image_path).convert('RGB')\n",
    "    img = transform(image=np.array(img))['image']\n",
    "    img = img.unsqueeze(0)  # Add batch dimension\n",
    "    return img.to(device)\n",
    "\n",
    "def predict_image(image_path, model, center, radius, threshold_multiplier=1.0):\n",
    "    \"\"\"\n",
    "    Predict if an image is normal or anomalous.\n",
    "\n",
    "    Args:\n",
    "        image_path (str): Path to the image to be tested.\n",
    "        model (nn.Module): Loaded model.\n",
    "        center (torch.Tensor): Center of the learned hypersphere.\n",
    "        radius (torch.Tensor): Radius of the hypersphere.\n",
    "        threshold_multiplier (float): Multiplier for threshold sensitivity.\n",
    "\n",
    "    Returns:\n",
    "        str: Prediction result (\"normal\" or \"anomalous\").\n",
    "    \"\"\"\n",
    "    # Preprocess the image\n",
    "    img = preprocess_image(image_path)\n",
    "\n",
    "    # Get features and compute distance to center\n",
    "    with torch.no_grad():\n",
    "        features = model(img)\n",
    "        distance = torch.sum((features - center) ** 2, dim=1)\n",
    "\n",
    "    # Determine if the image is normal or anomalous\n",
    "    is_normal = distance <= (radius * threshold_multiplier) ** 2\n",
    "    return \"normal\" if is_normal.item() else \"anomalous\""
   ],
   "metadata": {
    "collapsed": false
   },
   "id": "1d2d56f82973d99d"
  },
  {
   "cell_type": "code",
   "outputs": [],
   "source": [
    "# Test on an image\n",
    "test_image_path = 'prueba/imagen_1_frente.jpeg'  # Replace with your image path\n",
    "prediction = predict_image(test_image_path, model, center, radius)\n",
    "\n",
    "print(f\"The test image is predicted to be: {prediction}\")"
   ],
   "metadata": {
    "collapsed": false
   },
   "id": "98f3de6aab97280e"
  }
 ],
 "metadata": {
  "kernelspec": {
   "display_name": "Python 3",
   "language": "python",
   "name": "python3"
  },
  "language_info": {
   "codemirror_mode": {
    "name": "ipython",
    "version": 2
   },
   "file_extension": ".py",
   "mimetype": "text/x-python",
   "name": "python",
   "nbconvert_exporter": "python",
   "pygments_lexer": "ipython2",
   "version": "2.7.6"
  }
 },
 "nbformat": 4,
 "nbformat_minor": 5
}
